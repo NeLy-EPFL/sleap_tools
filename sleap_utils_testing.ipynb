{
 "cells": [
  {
   "cell_type": "code",
   "execution_count": 7,
   "metadata": {},
   "outputs": [],
   "source": [
    "import sleap_utils\n",
    "import importlib\n",
    "\n",
    "import h5py"
   ]
  },
  {
   "cell_type": "markdown",
   "metadata": {},
   "source": [
    "Some info on sleap h5 files:\n",
    "\n",
    "the shape of the tracks part is like this: x, y . Below is : frame. Below is : keypoint.\n",
    "\n",
    "so tracks [0] [0] is x for frame 1. It will have as many values as keypoints. "
   ]
  },
  {
   "cell_type": "code",
   "execution_count": 48,
   "metadata": {},
   "outputs": [
    {
     "data": {
      "text/plain": [
       "<module 'sleap_utils' from '/home/durrieu/sleap_tools/sleap_utils.py'>"
      ]
     },
     "execution_count": 48,
     "metadata": {},
     "output_type": "execute_result"
    }
   ],
   "source": [
    "importlib.reload(sleap_utils)"
   ]
  },
  {
   "cell_type": "code",
   "execution_count": 49,
   "metadata": {},
   "outputs": [
    {
     "name": "stdout",
     "output_type": "stream",
     "text": [
      "Loaded SLEAP tracking file: /mnt/upramdya_data/MD/MultiMazeRecorder/Videos/230721_Feedingstate_4_PM_Videos_Tracked/arena5/corridor5/corridor5_tracked_fly_full.000_corridor5.analysis.h5\n"
     ]
    }
   ],
   "source": [
    "TestTracks = sleap_utils.Sleap_Track(\n",
    "    \"/mnt/upramdya_data/MD/MultiMazeRecorder/Videos/230721_Feedingstate_4_PM_Videos_Tracked/arena5/corridor5/corridor5_tracked_fly_full.000_corridor5.analysis.h5\"\n",
    ")"
   ]
  },
  {
   "cell_type": "code",
   "execution_count": 50,
   "metadata": {},
   "outputs": [
    {
     "data": {
      "text/html": [
       "<div>\n",
       "<style scoped>\n",
       "    .dataframe tbody tr th:only-of-type {\n",
       "        vertical-align: middle;\n",
       "    }\n",
       "\n",
       "    .dataframe tbody tr th {\n",
       "        vertical-align: top;\n",
       "    }\n",
       "\n",
       "    .dataframe thead th {\n",
       "        text-align: right;\n",
       "    }\n",
       "</style>\n",
       "<table border=\"1\" class=\"dataframe\">\n",
       "  <thead>\n",
       "    <tr style=\"text-align: right;\">\n",
       "      <th></th>\n",
       "      <th>frame</th>\n",
       "      <th>animal</th>\n",
       "      <th>x_Head</th>\n",
       "      <th>y_Head</th>\n",
       "      <th>x_Thorax</th>\n",
       "      <th>y_Thorax</th>\n",
       "      <th>x_Abdomen</th>\n",
       "      <th>y_Abdomen</th>\n",
       "      <th>x_Rfront</th>\n",
       "      <th>y_Rfront</th>\n",
       "      <th>...</th>\n",
       "      <th>x_Lmid</th>\n",
       "      <th>y_Lmid</th>\n",
       "      <th>x_Rhind</th>\n",
       "      <th>y_Rhind</th>\n",
       "      <th>x_Lhind</th>\n",
       "      <th>y_Lhind</th>\n",
       "      <th>x_Rwing</th>\n",
       "      <th>y_Rwing</th>\n",
       "      <th>x_Lwing</th>\n",
       "      <th>y_Lwing</th>\n",
       "    </tr>\n",
       "  </thead>\n",
       "  <tbody>\n",
       "    <tr>\n",
       "      <th>0</th>\n",
       "      <td>1</td>\n",
       "      <td>animal_1</td>\n",
       "      <td>67.803345</td>\n",
       "      <td>456.105164</td>\n",
       "      <td>60.273571</td>\n",
       "      <td>463.772491</td>\n",
       "      <td>51.479980</td>\n",
       "      <td>476.561279</td>\n",
       "      <td>79.872757</td>\n",
       "      <td>455.745972</td>\n",
       "      <td>...</td>\n",
       "      <td>67.588760</td>\n",
       "      <td>439.964844</td>\n",
       "      <td>59.479717</td>\n",
       "      <td>495.946106</td>\n",
       "      <td>NaN</td>\n",
       "      <td>NaN</td>\n",
       "      <td>40.173405</td>\n",
       "      <td>491.796600</td>\n",
       "      <td>35.657188</td>\n",
       "      <td>483.769287</td>\n",
       "    </tr>\n",
       "    <tr>\n",
       "      <th>1</th>\n",
       "      <td>2</td>\n",
       "      <td>animal_1</td>\n",
       "      <td>68.268356</td>\n",
       "      <td>456.329041</td>\n",
       "      <td>60.578598</td>\n",
       "      <td>463.853394</td>\n",
       "      <td>51.511574</td>\n",
       "      <td>476.593781</td>\n",
       "      <td>80.147552</td>\n",
       "      <td>455.539246</td>\n",
       "      <td>...</td>\n",
       "      <td>67.514206</td>\n",
       "      <td>440.015472</td>\n",
       "      <td>59.564426</td>\n",
       "      <td>495.984802</td>\n",
       "      <td>NaN</td>\n",
       "      <td>NaN</td>\n",
       "      <td>40.137985</td>\n",
       "      <td>491.775391</td>\n",
       "      <td>35.748302</td>\n",
       "      <td>483.657196</td>\n",
       "    </tr>\n",
       "    <tr>\n",
       "      <th>2</th>\n",
       "      <td>3</td>\n",
       "      <td>animal_1</td>\n",
       "      <td>67.982857</td>\n",
       "      <td>455.887848</td>\n",
       "      <td>60.390984</td>\n",
       "      <td>463.693726</td>\n",
       "      <td>51.577637</td>\n",
       "      <td>476.457916</td>\n",
       "      <td>80.017929</td>\n",
       "      <td>455.752045</td>\n",
       "      <td>...</td>\n",
       "      <td>67.217697</td>\n",
       "      <td>439.795685</td>\n",
       "      <td>60.276558</td>\n",
       "      <td>495.975250</td>\n",
       "      <td>NaN</td>\n",
       "      <td>NaN</td>\n",
       "      <td>43.606812</td>\n",
       "      <td>492.047058</td>\n",
       "      <td>36.278145</td>\n",
       "      <td>483.756683</td>\n",
       "    </tr>\n",
       "    <tr>\n",
       "      <th>3</th>\n",
       "      <td>4</td>\n",
       "      <td>animal_1</td>\n",
       "      <td>67.738083</td>\n",
       "      <td>455.733643</td>\n",
       "      <td>60.124840</td>\n",
       "      <td>463.581909</td>\n",
       "      <td>48.654842</td>\n",
       "      <td>479.458008</td>\n",
       "      <td>79.792404</td>\n",
       "      <td>455.878998</td>\n",
       "      <td>...</td>\n",
       "      <td>67.489212</td>\n",
       "      <td>439.602325</td>\n",
       "      <td>60.252178</td>\n",
       "      <td>495.836121</td>\n",
       "      <td>NaN</td>\n",
       "      <td>NaN</td>\n",
       "      <td>43.539204</td>\n",
       "      <td>492.060913</td>\n",
       "      <td>36.174133</td>\n",
       "      <td>483.452789</td>\n",
       "    </tr>\n",
       "    <tr>\n",
       "      <th>4</th>\n",
       "      <td>5</td>\n",
       "      <td>animal_1</td>\n",
       "      <td>67.658409</td>\n",
       "      <td>455.719055</td>\n",
       "      <td>60.090412</td>\n",
       "      <td>463.651398</td>\n",
       "      <td>51.403687</td>\n",
       "      <td>479.446564</td>\n",
       "      <td>79.745377</td>\n",
       "      <td>455.985809</td>\n",
       "      <td>...</td>\n",
       "      <td>NaN</td>\n",
       "      <td>NaN</td>\n",
       "      <td>60.211952</td>\n",
       "      <td>495.781738</td>\n",
       "      <td>NaN</td>\n",
       "      <td>NaN</td>\n",
       "      <td>43.728321</td>\n",
       "      <td>492.218506</td>\n",
       "      <td>36.364647</td>\n",
       "      <td>483.029022</td>\n",
       "    </tr>\n",
       "    <tr>\n",
       "      <th>...</th>\n",
       "      <td>...</td>\n",
       "      <td>...</td>\n",
       "      <td>...</td>\n",
       "      <td>...</td>\n",
       "      <td>...</td>\n",
       "      <td>...</td>\n",
       "      <td>...</td>\n",
       "      <td>...</td>\n",
       "      <td>...</td>\n",
       "      <td>...</td>\n",
       "      <td>...</td>\n",
       "      <td>...</td>\n",
       "      <td>...</td>\n",
       "      <td>...</td>\n",
       "      <td>...</td>\n",
       "      <td>...</td>\n",
       "      <td>...</td>\n",
       "      <td>...</td>\n",
       "      <td>...</td>\n",
       "      <td>...</td>\n",
       "      <td>...</td>\n",
       "    </tr>\n",
       "    <tr>\n",
       "      <th>215995</th>\n",
       "      <td>215996</td>\n",
       "      <td>animal_1</td>\n",
       "      <td>60.399242</td>\n",
       "      <td>444.551025</td>\n",
       "      <td>60.099228</td>\n",
       "      <td>456.334503</td>\n",
       "      <td>64.067413</td>\n",
       "      <td>475.924866</td>\n",
       "      <td>72.099281</td>\n",
       "      <td>440.263092</td>\n",
       "      <td>...</td>\n",
       "      <td>NaN</td>\n",
       "      <td>NaN</td>\n",
       "      <td>79.766144</td>\n",
       "      <td>487.751709</td>\n",
       "      <td>NaN</td>\n",
       "      <td>NaN</td>\n",
       "      <td>63.576111</td>\n",
       "      <td>492.294922</td>\n",
       "      <td>56.461533</td>\n",
       "      <td>491.731476</td>\n",
       "    </tr>\n",
       "    <tr>\n",
       "      <th>215996</th>\n",
       "      <td>215997</td>\n",
       "      <td>animal_1</td>\n",
       "      <td>60.334312</td>\n",
       "      <td>444.548462</td>\n",
       "      <td>60.044952</td>\n",
       "      <td>456.347656</td>\n",
       "      <td>64.108086</td>\n",
       "      <td>475.889862</td>\n",
       "      <td>72.191437</td>\n",
       "      <td>440.211792</td>\n",
       "      <td>...</td>\n",
       "      <td>NaN</td>\n",
       "      <td>NaN</td>\n",
       "      <td>79.767509</td>\n",
       "      <td>487.800018</td>\n",
       "      <td>NaN</td>\n",
       "      <td>NaN</td>\n",
       "      <td>63.613811</td>\n",
       "      <td>492.248383</td>\n",
       "      <td>56.491657</td>\n",
       "      <td>491.753693</td>\n",
       "    </tr>\n",
       "    <tr>\n",
       "      <th>215997</th>\n",
       "      <td>215998</td>\n",
       "      <td>animal_1</td>\n",
       "      <td>60.384983</td>\n",
       "      <td>444.538544</td>\n",
       "      <td>60.060642</td>\n",
       "      <td>456.372192</td>\n",
       "      <td>64.140190</td>\n",
       "      <td>475.886566</td>\n",
       "      <td>72.256310</td>\n",
       "      <td>440.307526</td>\n",
       "      <td>...</td>\n",
       "      <td>NaN</td>\n",
       "      <td>NaN</td>\n",
       "      <td>79.837975</td>\n",
       "      <td>487.944702</td>\n",
       "      <td>NaN</td>\n",
       "      <td>NaN</td>\n",
       "      <td>63.584221</td>\n",
       "      <td>492.281311</td>\n",
       "      <td>56.407120</td>\n",
       "      <td>491.737976</td>\n",
       "    </tr>\n",
       "    <tr>\n",
       "      <th>215998</th>\n",
       "      <td>215999</td>\n",
       "      <td>animal_1</td>\n",
       "      <td>60.366383</td>\n",
       "      <td>444.536987</td>\n",
       "      <td>60.076088</td>\n",
       "      <td>456.340820</td>\n",
       "      <td>64.153770</td>\n",
       "      <td>475.849640</td>\n",
       "      <td>72.203232</td>\n",
       "      <td>440.296356</td>\n",
       "      <td>...</td>\n",
       "      <td>NaN</td>\n",
       "      <td>NaN</td>\n",
       "      <td>79.849838</td>\n",
       "      <td>487.879425</td>\n",
       "      <td>NaN</td>\n",
       "      <td>NaN</td>\n",
       "      <td>63.634121</td>\n",
       "      <td>492.190674</td>\n",
       "      <td>56.453880</td>\n",
       "      <td>491.677582</td>\n",
       "    </tr>\n",
       "    <tr>\n",
       "      <th>215999</th>\n",
       "      <td>216000</td>\n",
       "      <td>animal_1</td>\n",
       "      <td>60.325886</td>\n",
       "      <td>444.554657</td>\n",
       "      <td>60.065193</td>\n",
       "      <td>456.335144</td>\n",
       "      <td>64.130829</td>\n",
       "      <td>475.834961</td>\n",
       "      <td>72.132210</td>\n",
       "      <td>440.192688</td>\n",
       "      <td>...</td>\n",
       "      <td>NaN</td>\n",
       "      <td>NaN</td>\n",
       "      <td>79.797401</td>\n",
       "      <td>487.743652</td>\n",
       "      <td>NaN</td>\n",
       "      <td>NaN</td>\n",
       "      <td>63.678421</td>\n",
       "      <td>492.194031</td>\n",
       "      <td>59.357925</td>\n",
       "      <td>491.694061</td>\n",
       "    </tr>\n",
       "  </tbody>\n",
       "</table>\n",
       "<p>216000 rows × 24 columns</p>\n",
       "</div>"
      ],
      "text/plain": [
       "         frame    animal     x_Head      y_Head   x_Thorax    y_Thorax  \\\n",
       "0            1  animal_1  67.803345  456.105164  60.273571  463.772491   \n",
       "1            2  animal_1  68.268356  456.329041  60.578598  463.853394   \n",
       "2            3  animal_1  67.982857  455.887848  60.390984  463.693726   \n",
       "3            4  animal_1  67.738083  455.733643  60.124840  463.581909   \n",
       "4            5  animal_1  67.658409  455.719055  60.090412  463.651398   \n",
       "...        ...       ...        ...         ...        ...         ...   \n",
       "215995  215996  animal_1  60.399242  444.551025  60.099228  456.334503   \n",
       "215996  215997  animal_1  60.334312  444.548462  60.044952  456.347656   \n",
       "215997  215998  animal_1  60.384983  444.538544  60.060642  456.372192   \n",
       "215998  215999  animal_1  60.366383  444.536987  60.076088  456.340820   \n",
       "215999  216000  animal_1  60.325886  444.554657  60.065193  456.335144   \n",
       "\n",
       "        x_Abdomen   y_Abdomen   x_Rfront    y_Rfront  ...     x_Lmid  \\\n",
       "0       51.479980  476.561279  79.872757  455.745972  ...  67.588760   \n",
       "1       51.511574  476.593781  80.147552  455.539246  ...  67.514206   \n",
       "2       51.577637  476.457916  80.017929  455.752045  ...  67.217697   \n",
       "3       48.654842  479.458008  79.792404  455.878998  ...  67.489212   \n",
       "4       51.403687  479.446564  79.745377  455.985809  ...        NaN   \n",
       "...           ...         ...        ...         ...  ...        ...   \n",
       "215995  64.067413  475.924866  72.099281  440.263092  ...        NaN   \n",
       "215996  64.108086  475.889862  72.191437  440.211792  ...        NaN   \n",
       "215997  64.140190  475.886566  72.256310  440.307526  ...        NaN   \n",
       "215998  64.153770  475.849640  72.203232  440.296356  ...        NaN   \n",
       "215999  64.130829  475.834961  72.132210  440.192688  ...        NaN   \n",
       "\n",
       "            y_Lmid    x_Rhind     y_Rhind  x_Lhind  y_Lhind    x_Rwing  \\\n",
       "0       439.964844  59.479717  495.946106      NaN      NaN  40.173405   \n",
       "1       440.015472  59.564426  495.984802      NaN      NaN  40.137985   \n",
       "2       439.795685  60.276558  495.975250      NaN      NaN  43.606812   \n",
       "3       439.602325  60.252178  495.836121      NaN      NaN  43.539204   \n",
       "4              NaN  60.211952  495.781738      NaN      NaN  43.728321   \n",
       "...            ...        ...         ...      ...      ...        ...   \n",
       "215995         NaN  79.766144  487.751709      NaN      NaN  63.576111   \n",
       "215996         NaN  79.767509  487.800018      NaN      NaN  63.613811   \n",
       "215997         NaN  79.837975  487.944702      NaN      NaN  63.584221   \n",
       "215998         NaN  79.849838  487.879425      NaN      NaN  63.634121   \n",
       "215999         NaN  79.797401  487.743652      NaN      NaN  63.678421   \n",
       "\n",
       "           y_Rwing    x_Lwing     y_Lwing  \n",
       "0       491.796600  35.657188  483.769287  \n",
       "1       491.775391  35.748302  483.657196  \n",
       "2       492.047058  36.278145  483.756683  \n",
       "3       492.060913  36.174133  483.452789  \n",
       "4       492.218506  36.364647  483.029022  \n",
       "...            ...        ...         ...  \n",
       "215995  492.294922  56.461533  491.731476  \n",
       "215996  492.248383  56.491657  491.753693  \n",
       "215997  492.281311  56.407120  491.737976  \n",
       "215998  492.190674  56.453880  491.677582  \n",
       "215999  492.194031  59.357925  491.694061  \n",
       "\n",
       "[216000 rows x 24 columns]"
      ]
     },
     "execution_count": 50,
     "metadata": {},
     "output_type": "execute_result"
    }
   ],
   "source": [
    "TestTracks.data"
   ]
  },
  {
   "cell_type": "code",
   "execution_count": 24,
   "metadata": {},
   "outputs": [
    {
     "data": {
      "text/plain": [
       "['Head',\n",
       " 'Thorax',\n",
       " 'Abdomen',\n",
       " 'Rfront',\n",
       " 'Lfront',\n",
       " 'Rmid',\n",
       " 'Lmid',\n",
       " 'Rhind',\n",
       " 'Lhind',\n",
       " 'Rwing',\n",
       " 'Lwing']"
      ]
     },
     "execution_count": 24,
     "metadata": {},
     "output_type": "execute_result"
    }
   ],
   "source": [
    "TestTracks.nodes"
   ]
  },
  {
   "cell_type": "code",
   "execution_count": 12,
   "metadata": {},
   "outputs": [],
   "source": [
    "tracks = h5py.File(\"/mnt/upramdya_data/MD/MultiMazeRecorder/Videos/230721_Feedingstate_4_PM_Videos_Tracked/arena5/corridor5/corridor5_tracked_fly_full.000_corridor5.analysis.h5\", \"r\")"
   ]
  },
  {
   "cell_type": "code",
   "execution_count": 13,
   "metadata": {},
   "outputs": [
    {
     "data": {
      "text/plain": [
       "<HDF5 file \"corridor5_tracked_fly_full.000_corridor5.analysis.h5\" (mode r)>"
      ]
     },
     "execution_count": 13,
     "metadata": {},
     "output_type": "execute_result"
    }
   ],
   "source": [
    "tracks"
   ]
  },
  {
   "cell_type": "code",
   "execution_count": 14,
   "metadata": {},
   "outputs": [
    {
     "data": {
      "text/plain": [
       "['edge_inds',\n",
       " 'edge_names',\n",
       " 'instance_scores',\n",
       " 'labels_path',\n",
       " 'node_names',\n",
       " 'point_scores',\n",
       " 'provenance',\n",
       " 'track_names',\n",
       " 'track_occupancy',\n",
       " 'tracking_scores',\n",
       " 'tracks',\n",
       " 'video_ind',\n",
       " 'video_path']"
      ]
     },
     "execution_count": 14,
     "metadata": {},
     "output_type": "execute_result"
    }
   ],
   "source": [
    "list(tracks.keys())"
   ]
  },
  {
   "cell_type": "code",
   "execution_count": 15,
   "metadata": {},
   "outputs": [],
   "source": [
    "nodes = tracks[\"node_names\"]"
   ]
  },
  {
   "cell_type": "code",
   "execution_count": 19,
   "metadata": {},
   "outputs": [
    {
     "data": {
      "text/plain": [
       "array([b'Head', b'Thorax', b'Abdomen', b'Rfront', b'Lfront', b'Rmid',\n",
       "       b'Lmid', b'Rhind', b'Lhind', b'Rwing', b'Lwing'], dtype='|S7')"
      ]
     },
     "execution_count": 19,
     "metadata": {},
     "output_type": "execute_result"
    }
   ],
   "source": [
    "nodes[:]"
   ]
  },
  {
   "cell_type": "code",
   "execution_count": 20,
   "metadata": {},
   "outputs": [
    {
     "data": {
      "text/plain": [
       "['Head',\n",
       " 'Thorax',\n",
       " 'Abdomen',\n",
       " 'Rfront',\n",
       " 'Lfront',\n",
       " 'Rmid',\n",
       " 'Lmid',\n",
       " 'Rhind',\n",
       " 'Lhind',\n",
       " 'Rwing',\n",
       " 'Lwing']"
      ]
     },
     "execution_count": 20,
     "metadata": {},
     "output_type": "execute_result"
    }
   ],
   "source": [
    "# Convert to list of strings\n",
    "nodes = [x.decode(\"utf-8\") for x in nodes]\n",
    "\n",
    "nodes"
   ]
  },
  {
   "cell_type": "code",
   "execution_count": 25,
   "metadata": {},
   "outputs": [
    {
     "data": {
      "text/plain": [
       "<HDF5 dataset \"provenance\": shape (), type \"|O\">"
      ]
     },
     "execution_count": 25,
     "metadata": {},
     "output_type": "execute_result"
    }
   ],
   "source": [
    "tracks['provenance']"
   ]
  },
  {
   "cell_type": "code",
   "execution_count": 38,
   "metadata": {},
   "outputs": [
    {
     "data": {
      "text/plain": [
       "<HDF5 dataset \"tracks\": shape (1, 2, 11, 216000), type \"<f8\">"
      ]
     },
     "execution_count": 38,
     "metadata": {},
     "output_type": "execute_result"
    }
   ],
   "source": [
    "tracks[\"tracks\"]"
   ]
  },
  {
   "cell_type": "code",
   "execution_count": 32,
   "metadata": {},
   "outputs": [
    {
     "data": {
      "text/plain": [
       "array([[67.80334473, 68.26835632, 67.98285675, ..., 60.38498306,\n",
       "        60.3663826 , 60.32588577],\n",
       "       [60.27357101, 60.57859802, 60.39098358, ..., 60.06064224,\n",
       "        60.07608795, 60.06519318],\n",
       "       [51.47998047, 51.51157379, 51.57763672, ..., 64.14019012,\n",
       "        64.15377045, 64.13082886],\n",
       "       ...,\n",
       "       [        nan,         nan,         nan, ...,         nan,\n",
       "                nan,         nan],\n",
       "       [40.17340469, 40.13798523, 43.60681152, ..., 63.58422089,\n",
       "        63.63412094, 63.67842102],\n",
       "       [35.65718842, 35.74830246, 36.27814484, ..., 56.40711975,\n",
       "        56.45388031, 59.35792542]])"
      ]
     },
     "execution_count": 32,
     "metadata": {},
     "output_type": "execute_result"
    }
   ],
   "source": [
    "tracks['tracks'][0][0]"
   ]
  },
  {
   "cell_type": "code",
   "execution_count": null,
   "metadata": {},
   "outputs": [],
   "source": []
  }
 ],
 "metadata": {
  "kernelspec": {
   "display_name": "Main",
   "language": "python",
   "name": "python3"
  },
  "language_info": {
   "codemirror_mode": {
    "name": "ipython",
    "version": 3
   },
   "file_extension": ".py",
   "mimetype": "text/x-python",
   "name": "python",
   "nbconvert_exporter": "python",
   "pygments_lexer": "ipython3",
   "version": "3.7.12"
  }
 },
 "nbformat": 4,
 "nbformat_minor": 2
}
